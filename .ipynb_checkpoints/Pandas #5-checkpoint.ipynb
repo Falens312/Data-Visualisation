{
 "cells": [
  {
   "cell_type": "markdown",
   "metadata": {},
   "source": [
    "# Resampling pada data deret waktu (Time Seris Data"
   ]
  },
  {
   "cell_type": "markdown",
   "metadata": {},
   "source": [
    "# _Import moduls_"
   ]
  },
  {
   "cell_type": "code",
   "execution_count": 16,
   "metadata": {},
   "outputs": [],
   "source": [
    "import pandas as pd\n",
    "import numpy as np"
   ]
  },
  {
   "cell_type": "markdown",
   "metadata": {},
   "source": [
    "# _Membentuk data frame yang akan di gunakan_\n",
    "- 365 * 24\n",
    "    - 365 = jumlah hari / tahun\n",
    "    - 24 = jumlah jam / hari\n",
    "- index dari data frame akan di isi dengan deret waktu dengan memanggil pd.util.testing.makeDateIndex "
   ]
  },
  {
   "cell_type": "code",
   "execution_count": 18,
   "metadata": {},
   "outputs": [
    {
     "data": {
      "text/html": [
       "<div>\n",
       "<style scoped>\n",
       "    .dataframe tbody tr th:only-of-type {\n",
       "        vertical-align: middle;\n",
       "    }\n",
       "\n",
       "    .dataframe tbody tr th {\n",
       "        vertical-align: top;\n",
       "    }\n",
       "\n",
       "    .dataframe thead th {\n",
       "        text-align: right;\n",
       "    }\n",
       "</style>\n",
       "<table border=\"1\" class=\"dataframe\">\n",
       "  <thead>\n",
       "    <tr style=\"text-align: right;\">\n",
       "      <th></th>\n",
       "      <th>col1</th>\n",
       "      <th>col2</th>\n",
       "    </tr>\n",
       "  </thead>\n",
       "  <tbody>\n",
       "    <tr>\n",
       "      <th>2000-01-01 00:00:00</th>\n",
       "      <td>2</td>\n",
       "      <td>1</td>\n",
       "    </tr>\n",
       "    <tr>\n",
       "      <th>2000-01-01 01:00:00</th>\n",
       "      <td>4</td>\n",
       "      <td>16</td>\n",
       "    </tr>\n",
       "    <tr>\n",
       "      <th>2000-01-01 02:00:00</th>\n",
       "      <td>6</td>\n",
       "      <td>13</td>\n",
       "    </tr>\n",
       "    <tr>\n",
       "      <th>2000-01-01 03:00:00</th>\n",
       "      <td>8</td>\n",
       "      <td>6</td>\n",
       "    </tr>\n",
       "    <tr>\n",
       "      <th>2000-01-01 04:00:00</th>\n",
       "      <td>6</td>\n",
       "      <td>2</td>\n",
       "    </tr>\n",
       "    <tr>\n",
       "      <th>...</th>\n",
       "      <td>...</td>\n",
       "      <td>...</td>\n",
       "    </tr>\n",
       "    <tr>\n",
       "      <th>2000-12-30 19:00:00</th>\n",
       "      <td>7</td>\n",
       "      <td>8</td>\n",
       "    </tr>\n",
       "    <tr>\n",
       "      <th>2000-12-30 20:00:00</th>\n",
       "      <td>2</td>\n",
       "      <td>3</td>\n",
       "    </tr>\n",
       "    <tr>\n",
       "      <th>2000-12-30 21:00:00</th>\n",
       "      <td>7</td>\n",
       "      <td>15</td>\n",
       "    </tr>\n",
       "    <tr>\n",
       "      <th>2000-12-30 22:00:00</th>\n",
       "      <td>12</td>\n",
       "      <td>1</td>\n",
       "    </tr>\n",
       "    <tr>\n",
       "      <th>2000-12-30 23:00:00</th>\n",
       "      <td>11</td>\n",
       "      <td>3</td>\n",
       "    </tr>\n",
       "  </tbody>\n",
       "</table>\n",
       "<p>8760 rows × 2 columns</p>\n",
       "</div>"
      ],
      "text/plain": [
       "                     col1  col2\n",
       "2000-01-01 00:00:00     2     1\n",
       "2000-01-01 01:00:00     4    16\n",
       "2000-01-01 02:00:00     6    13\n",
       "2000-01-01 03:00:00     8     6\n",
       "2000-01-01 04:00:00     6     2\n",
       "...                   ...   ...\n",
       "2000-12-30 19:00:00     7     8\n",
       "2000-12-30 20:00:00     2     3\n",
       "2000-12-30 21:00:00     7    15\n",
       "2000-12-30 22:00:00    12     1\n",
       "2000-12-30 23:00:00    11     3\n",
       "\n",
       "[8760 rows x 2 columns]"
      ]
     },
     "execution_count": 18,
     "metadata": {},
     "output_type": "execute_result"
    }
   ],
   "source": [
    "n_rows = 365 * 24\n",
    "n_cols = 2\n",
    "cols = ['col1', 'col2']\n",
    "\n",
    "df = pd.DataFrame(np.random.randint(1, 20, size=(n_rows, n_cols)),\n",
    "                 columns=cols)\n",
    "\n",
    "df.index = pd.util.testing.makeDateIndex(n_rows, freq='H')\n",
    "df"
   ]
  },
  {
   "cell_type": "markdown",
   "metadata": {},
   "source": [
    "# _Resampling data dengan interval monthly_\n",
    "- Proses pengelompokan data per bulan"
   ]
  },
  {
   "cell_type": "code",
   "execution_count": 19,
   "metadata": {},
   "outputs": [
    {
     "data": {
      "text/html": [
       "<div>\n",
       "<style scoped>\n",
       "    .dataframe tbody tr th:only-of-type {\n",
       "        vertical-align: middle;\n",
       "    }\n",
       "\n",
       "    .dataframe tbody tr th {\n",
       "        vertical-align: top;\n",
       "    }\n",
       "\n",
       "    .dataframe thead th {\n",
       "        text-align: right;\n",
       "    }\n",
       "</style>\n",
       "<table border=\"1\" class=\"dataframe\">\n",
       "  <thead>\n",
       "    <tr style=\"text-align: right;\">\n",
       "      <th></th>\n",
       "      <th>col1</th>\n",
       "    </tr>\n",
       "  </thead>\n",
       "  <tbody>\n",
       "    <tr>\n",
       "      <th>2000-01-31</th>\n",
       "      <td>7373</td>\n",
       "    </tr>\n",
       "    <tr>\n",
       "      <th>2000-02-29</th>\n",
       "      <td>6872</td>\n",
       "    </tr>\n",
       "    <tr>\n",
       "      <th>2000-03-31</th>\n",
       "      <td>7134</td>\n",
       "    </tr>\n",
       "    <tr>\n",
       "      <th>2000-04-30</th>\n",
       "      <td>7271</td>\n",
       "    </tr>\n",
       "    <tr>\n",
       "      <th>2000-05-31</th>\n",
       "      <td>7495</td>\n",
       "    </tr>\n",
       "    <tr>\n",
       "      <th>2000-06-30</th>\n",
       "      <td>7435</td>\n",
       "    </tr>\n",
       "    <tr>\n",
       "      <th>2000-07-31</th>\n",
       "      <td>7464</td>\n",
       "    </tr>\n",
       "    <tr>\n",
       "      <th>2000-08-31</th>\n",
       "      <td>7393</td>\n",
       "    </tr>\n",
       "    <tr>\n",
       "      <th>2000-09-30</th>\n",
       "      <td>7274</td>\n",
       "    </tr>\n",
       "    <tr>\n",
       "      <th>2000-10-31</th>\n",
       "      <td>7520</td>\n",
       "    </tr>\n",
       "    <tr>\n",
       "      <th>2000-11-30</th>\n",
       "      <td>7419</td>\n",
       "    </tr>\n",
       "    <tr>\n",
       "      <th>2000-12-31</th>\n",
       "      <td>7193</td>\n",
       "    </tr>\n",
       "  </tbody>\n",
       "</table>\n",
       "</div>"
      ],
      "text/plain": [
       "            col1\n",
       "2000-01-31  7373\n",
       "2000-02-29  6872\n",
       "2000-03-31  7134\n",
       "2000-04-30  7271\n",
       "2000-05-31  7495\n",
       "2000-06-30  7435\n",
       "2000-07-31  7464\n",
       "2000-08-31  7393\n",
       "2000-09-30  7274\n",
       "2000-10-31  7520\n",
       "2000-11-30  7419\n",
       "2000-12-31  7193"
      ]
     },
     "execution_count": 19,
     "metadata": {},
     "output_type": "execute_result"
    }
   ],
   "source": [
    "df.resample('M')['col1'].sum().to_frame()"
   ]
  },
  {
   "cell_type": "markdown",
   "metadata": {},
   "source": [
    "# _Resampling data dengan interval daily_\n",
    "- proses pengelompokan data per hari"
   ]
  },
  {
   "cell_type": "code",
   "execution_count": 21,
   "metadata": {},
   "outputs": [
    {
     "data": {
      "text/html": [
       "<div>\n",
       "<style scoped>\n",
       "    .dataframe tbody tr th:only-of-type {\n",
       "        vertical-align: middle;\n",
       "    }\n",
       "\n",
       "    .dataframe tbody tr th {\n",
       "        vertical-align: top;\n",
       "    }\n",
       "\n",
       "    .dataframe thead th {\n",
       "        text-align: right;\n",
       "    }\n",
       "</style>\n",
       "<table border=\"1\" class=\"dataframe\">\n",
       "  <thead>\n",
       "    <tr style=\"text-align: right;\">\n",
       "      <th></th>\n",
       "      <th>col1</th>\n",
       "    </tr>\n",
       "  </thead>\n",
       "  <tbody>\n",
       "    <tr>\n",
       "      <th>2000-01-01</th>\n",
       "      <td>202</td>\n",
       "    </tr>\n",
       "    <tr>\n",
       "      <th>2000-01-02</th>\n",
       "      <td>251</td>\n",
       "    </tr>\n",
       "    <tr>\n",
       "      <th>2000-01-03</th>\n",
       "      <td>222</td>\n",
       "    </tr>\n",
       "    <tr>\n",
       "      <th>2000-01-04</th>\n",
       "      <td>238</td>\n",
       "    </tr>\n",
       "    <tr>\n",
       "      <th>2000-01-05</th>\n",
       "      <td>219</td>\n",
       "    </tr>\n",
       "    <tr>\n",
       "      <th>...</th>\n",
       "      <td>...</td>\n",
       "    </tr>\n",
       "    <tr>\n",
       "      <th>2000-12-26</th>\n",
       "      <td>268</td>\n",
       "    </tr>\n",
       "    <tr>\n",
       "      <th>2000-12-27</th>\n",
       "      <td>250</td>\n",
       "    </tr>\n",
       "    <tr>\n",
       "      <th>2000-12-28</th>\n",
       "      <td>249</td>\n",
       "    </tr>\n",
       "    <tr>\n",
       "      <th>2000-12-29</th>\n",
       "      <td>250</td>\n",
       "    </tr>\n",
       "    <tr>\n",
       "      <th>2000-12-30</th>\n",
       "      <td>236</td>\n",
       "    </tr>\n",
       "  </tbody>\n",
       "</table>\n",
       "<p>365 rows × 1 columns</p>\n",
       "</div>"
      ],
      "text/plain": [
       "            col1\n",
       "2000-01-01   202\n",
       "2000-01-02   251\n",
       "2000-01-03   222\n",
       "2000-01-04   238\n",
       "2000-01-05   219\n",
       "...          ...\n",
       "2000-12-26   268\n",
       "2000-12-27   250\n",
       "2000-12-28   249\n",
       "2000-12-29   250\n",
       "2000-12-30   236\n",
       "\n",
       "[365 rows x 1 columns]"
      ]
     },
     "execution_count": 21,
     "metadata": {},
     "output_type": "execute_result"
    }
   ],
   "source": [
    "df.resample('D')['col1'].sum().to_frame()"
   ]
  },
  {
   "cell_type": "markdown",
   "metadata": {},
   "source": [
    "# Membentuk Dummy Data Frame\n",
    "- Membentuk Dummy data frame dengan 3 cara :\n",
    "    - Menggunakan struktur data Dictionary\n",
    "    - Menggunakan Numpy Array\n",
    "    - Menggunakan pandas.util.testing"
   ]
  },
  {
   "cell_type": "markdown",
   "metadata": {},
   "source": [
    "# _Dictionary_"
   ]
  },
  {
   "cell_type": "code",
   "execution_count": 23,
   "metadata": {},
   "outputs": [
    {
     "data": {
      "text/html": [
       "<div>\n",
       "<style scoped>\n",
       "    .dataframe tbody tr th:only-of-type {\n",
       "        vertical-align: middle;\n",
       "    }\n",
       "\n",
       "    .dataframe tbody tr th {\n",
       "        vertical-align: top;\n",
       "    }\n",
       "\n",
       "    .dataframe thead th {\n",
       "        text-align: right;\n",
       "    }\n",
       "</style>\n",
       "<table border=\"1\" class=\"dataframe\">\n",
       "  <thead>\n",
       "    <tr style=\"text-align: right;\">\n",
       "      <th></th>\n",
       "      <th>col1</th>\n",
       "      <th>col2</th>\n",
       "    </tr>\n",
       "  </thead>\n",
       "  <tbody>\n",
       "    <tr>\n",
       "      <th>0</th>\n",
       "      <td>1</td>\n",
       "      <td>5</td>\n",
       "    </tr>\n",
       "    <tr>\n",
       "      <th>1</th>\n",
       "      <td>2</td>\n",
       "      <td>6</td>\n",
       "    </tr>\n",
       "    <tr>\n",
       "      <th>2</th>\n",
       "      <td>3</td>\n",
       "      <td>7</td>\n",
       "    </tr>\n",
       "    <tr>\n",
       "      <th>3</th>\n",
       "      <td>4</td>\n",
       "      <td>8</td>\n",
       "    </tr>\n",
       "  </tbody>\n",
       "</table>\n",
       "</div>"
      ],
      "text/plain": [
       "   col1  col2\n",
       "0     1     5\n",
       "1     2     6\n",
       "2     3     7\n",
       "3     4     8"
      ]
     },
     "execution_count": 23,
     "metadata": {},
     "output_type": "execute_result"
    }
   ],
   "source": [
    "pd.DataFrame({'col1':[1, 2, 3, 4],\n",
    "               'col2':[5, 6, 7, 8]})"
   ]
  },
  {
   "cell_type": "markdown",
   "metadata": {},
   "source": [
    "# _Numpy Array_"
   ]
  },
  {
   "cell_type": "code",
   "execution_count": 24,
   "metadata": {},
   "outputs": [
    {
     "data": {
      "text/plain": [
       "array([[16,  6, 14],\n",
       "       [ 4, 10,  8],\n",
       "       [15,  6, 11],\n",
       "       [11, 10, 18],\n",
       "       [ 4, 16, 18]])"
      ]
     },
     "execution_count": 24,
     "metadata": {},
     "output_type": "execute_result"
    }
   ],
   "source": [
    "n_rows = 5\n",
    "n_cols = 3\n",
    "\n",
    "arr = np.random.randint(1, 20, size=(n_rows, n_cols))\n",
    "arr"
   ]
  },
  {
   "cell_type": "code",
   "execution_count": 25,
   "metadata": {},
   "outputs": [
    {
     "data": {
      "text/html": [
       "<div>\n",
       "<style scoped>\n",
       "    .dataframe tbody tr th:only-of-type {\n",
       "        vertical-align: middle;\n",
       "    }\n",
       "\n",
       "    .dataframe tbody tr th {\n",
       "        vertical-align: top;\n",
       "    }\n",
       "\n",
       "    .dataframe thead th {\n",
       "        text-align: right;\n",
       "    }\n",
       "</style>\n",
       "<table border=\"1\" class=\"dataframe\">\n",
       "  <thead>\n",
       "    <tr style=\"text-align: right;\">\n",
       "      <th></th>\n",
       "      <th>A</th>\n",
       "      <th>B</th>\n",
       "      <th>C</th>\n",
       "    </tr>\n",
       "  </thead>\n",
       "  <tbody>\n",
       "    <tr>\n",
       "      <th>0</th>\n",
       "      <td>16</td>\n",
       "      <td>6</td>\n",
       "      <td>14</td>\n",
       "    </tr>\n",
       "    <tr>\n",
       "      <th>1</th>\n",
       "      <td>4</td>\n",
       "      <td>10</td>\n",
       "      <td>8</td>\n",
       "    </tr>\n",
       "    <tr>\n",
       "      <th>2</th>\n",
       "      <td>15</td>\n",
       "      <td>6</td>\n",
       "      <td>11</td>\n",
       "    </tr>\n",
       "    <tr>\n",
       "      <th>3</th>\n",
       "      <td>11</td>\n",
       "      <td>10</td>\n",
       "      <td>18</td>\n",
       "    </tr>\n",
       "    <tr>\n",
       "      <th>4</th>\n",
       "      <td>4</td>\n",
       "      <td>16</td>\n",
       "      <td>18</td>\n",
       "    </tr>\n",
       "  </tbody>\n",
       "</table>\n",
       "</div>"
      ],
      "text/plain": [
       "    A   B   C\n",
       "0  16   6  14\n",
       "1   4  10   8\n",
       "2  15   6  11\n",
       "3  11  10  18\n",
       "4   4  16  18"
      ]
     },
     "execution_count": 25,
     "metadata": {},
     "output_type": "execute_result"
    }
   ],
   "source": [
    "pd.DataFrame(arr, columns=tuple('ABC'))"
   ]
  },
  {
   "cell_type": "markdown",
   "metadata": {},
   "source": [
    "# _pandas.util.testing_\n",
    "- .makeDataFrame() = Data Frame sederhana\n",
    "- .makeMixedDataFrame() = Data Frame yang bercampur\n",
    "- .makeTimeDataFrame() = Time series Data Frame\n",
    "- .makeMissingDataframe() = Data Frame dengan beberapa Missing value"
   ]
  },
  {
   "cell_type": "code",
   "execution_count": 46,
   "metadata": {},
   "outputs": [
    {
     "data": {
      "text/html": [
       "<div>\n",
       "<style scoped>\n",
       "    .dataframe tbody tr th:only-of-type {\n",
       "        vertical-align: middle;\n",
       "    }\n",
       "\n",
       "    .dataframe tbody tr th {\n",
       "        vertical-align: top;\n",
       "    }\n",
       "\n",
       "    .dataframe thead th {\n",
       "        text-align: right;\n",
       "    }\n",
       "</style>\n",
       "<table border=\"1\" class=\"dataframe\">\n",
       "  <thead>\n",
       "    <tr style=\"text-align: right;\">\n",
       "      <th></th>\n",
       "      <th>A</th>\n",
       "      <th>B</th>\n",
       "      <th>C</th>\n",
       "      <th>D</th>\n",
       "    </tr>\n",
       "  </thead>\n",
       "  <tbody>\n",
       "    <tr>\n",
       "      <th>p0BBQmJCgU</th>\n",
       "      <td>-0.866623</td>\n",
       "      <td>0.789124</td>\n",
       "      <td>-0.302545</td>\n",
       "      <td>1.300374</td>\n",
       "    </tr>\n",
       "    <tr>\n",
       "      <th>K8fFIqNMah</th>\n",
       "      <td>2.459401</td>\n",
       "      <td>1.303734</td>\n",
       "      <td>-0.669603</td>\n",
       "      <td>-0.853529</td>\n",
       "    </tr>\n",
       "    <tr>\n",
       "      <th>202zq6ohYd</th>\n",
       "      <td>0.231455</td>\n",
       "      <td>-0.576260</td>\n",
       "      <td>0.564641</td>\n",
       "      <td>-0.541374</td>\n",
       "    </tr>\n",
       "    <tr>\n",
       "      <th>SBHYO4xS2U</th>\n",
       "      <td>2.479311</td>\n",
       "      <td>0.287504</td>\n",
       "      <td>0.257094</td>\n",
       "      <td>-0.831748</td>\n",
       "    </tr>\n",
       "    <tr>\n",
       "      <th>izyzAu4nYY</th>\n",
       "      <td>0.803697</td>\n",
       "      <td>-1.236468</td>\n",
       "      <td>-0.450260</td>\n",
       "      <td>-1.061903</td>\n",
       "    </tr>\n",
       "  </tbody>\n",
       "</table>\n",
       "</div>"
      ],
      "text/plain": [
       "                   A         B         C         D\n",
       "p0BBQmJCgU -0.866623  0.789124 -0.302545  1.300374\n",
       "K8fFIqNMah  2.459401  1.303734 -0.669603 -0.853529\n",
       "202zq6ohYd  0.231455 -0.576260  0.564641 -0.541374\n",
       "SBHYO4xS2U  2.479311  0.287504  0.257094 -0.831748\n",
       "izyzAu4nYY  0.803697 -1.236468 -0.450260 -1.061903"
      ]
     },
     "execution_count": 46,
     "metadata": {},
     "output_type": "execute_result"
    }
   ],
   "source": [
    "pd.util.testing.makeDataFrame().head()"
   ]
  },
  {
   "cell_type": "code",
   "execution_count": 29,
   "metadata": {},
   "outputs": [
    {
     "data": {
      "text/html": [
       "<div>\n",
       "<style scoped>\n",
       "    .dataframe tbody tr th:only-of-type {\n",
       "        vertical-align: middle;\n",
       "    }\n",
       "\n",
       "    .dataframe tbody tr th {\n",
       "        vertical-align: top;\n",
       "    }\n",
       "\n",
       "    .dataframe thead th {\n",
       "        text-align: right;\n",
       "    }\n",
       "</style>\n",
       "<table border=\"1\" class=\"dataframe\">\n",
       "  <thead>\n",
       "    <tr style=\"text-align: right;\">\n",
       "      <th></th>\n",
       "      <th>A</th>\n",
       "      <th>B</th>\n",
       "      <th>C</th>\n",
       "      <th>D</th>\n",
       "    </tr>\n",
       "  </thead>\n",
       "  <tbody>\n",
       "    <tr>\n",
       "      <th>0</th>\n",
       "      <td>0.0</td>\n",
       "      <td>0.0</td>\n",
       "      <td>foo1</td>\n",
       "      <td>2009-01-01</td>\n",
       "    </tr>\n",
       "    <tr>\n",
       "      <th>1</th>\n",
       "      <td>1.0</td>\n",
       "      <td>1.0</td>\n",
       "      <td>foo2</td>\n",
       "      <td>2009-01-02</td>\n",
       "    </tr>\n",
       "    <tr>\n",
       "      <th>2</th>\n",
       "      <td>2.0</td>\n",
       "      <td>0.0</td>\n",
       "      <td>foo3</td>\n",
       "      <td>2009-01-05</td>\n",
       "    </tr>\n",
       "    <tr>\n",
       "      <th>3</th>\n",
       "      <td>3.0</td>\n",
       "      <td>1.0</td>\n",
       "      <td>foo4</td>\n",
       "      <td>2009-01-06</td>\n",
       "    </tr>\n",
       "    <tr>\n",
       "      <th>4</th>\n",
       "      <td>4.0</td>\n",
       "      <td>0.0</td>\n",
       "      <td>foo5</td>\n",
       "      <td>2009-01-07</td>\n",
       "    </tr>\n",
       "  </tbody>\n",
       "</table>\n",
       "</div>"
      ],
      "text/plain": [
       "     A    B     C          D\n",
       "0  0.0  0.0  foo1 2009-01-01\n",
       "1  1.0  1.0  foo2 2009-01-02\n",
       "2  2.0  0.0  foo3 2009-01-05\n",
       "3  3.0  1.0  foo4 2009-01-06\n",
       "4  4.0  0.0  foo5 2009-01-07"
      ]
     },
     "execution_count": 29,
     "metadata": {},
     "output_type": "execute_result"
    }
   ],
   "source": [
    "pd.util.testing.makeMixedDataFrame().head()"
   ]
  },
  {
   "cell_type": "code",
   "execution_count": 30,
   "metadata": {},
   "outputs": [
    {
     "data": {
      "text/html": [
       "<div>\n",
       "<style scoped>\n",
       "    .dataframe tbody tr th:only-of-type {\n",
       "        vertical-align: middle;\n",
       "    }\n",
       "\n",
       "    .dataframe tbody tr th {\n",
       "        vertical-align: top;\n",
       "    }\n",
       "\n",
       "    .dataframe thead th {\n",
       "        text-align: right;\n",
       "    }\n",
       "</style>\n",
       "<table border=\"1\" class=\"dataframe\">\n",
       "  <thead>\n",
       "    <tr style=\"text-align: right;\">\n",
       "      <th></th>\n",
       "      <th>A</th>\n",
       "      <th>B</th>\n",
       "      <th>C</th>\n",
       "      <th>D</th>\n",
       "    </tr>\n",
       "  </thead>\n",
       "  <tbody>\n",
       "    <tr>\n",
       "      <th>2000-01-03</th>\n",
       "      <td>0.149580</td>\n",
       "      <td>0.759616</td>\n",
       "      <td>0.853075</td>\n",
       "      <td>1.153849</td>\n",
       "    </tr>\n",
       "    <tr>\n",
       "      <th>2000-01-04</th>\n",
       "      <td>0.212539</td>\n",
       "      <td>0.254542</td>\n",
       "      <td>0.476114</td>\n",
       "      <td>-0.344399</td>\n",
       "    </tr>\n",
       "    <tr>\n",
       "      <th>2000-01-05</th>\n",
       "      <td>-1.007076</td>\n",
       "      <td>0.414017</td>\n",
       "      <td>1.336297</td>\n",
       "      <td>0.589773</td>\n",
       "    </tr>\n",
       "    <tr>\n",
       "      <th>2000-01-06</th>\n",
       "      <td>-0.186111</td>\n",
       "      <td>0.623775</td>\n",
       "      <td>-1.094176</td>\n",
       "      <td>-0.365051</td>\n",
       "    </tr>\n",
       "    <tr>\n",
       "      <th>2000-01-07</th>\n",
       "      <td>0.317765</td>\n",
       "      <td>-1.122836</td>\n",
       "      <td>-0.773397</td>\n",
       "      <td>-0.085617</td>\n",
       "    </tr>\n",
       "  </tbody>\n",
       "</table>\n",
       "</div>"
      ],
      "text/plain": [
       "                   A         B         C         D\n",
       "2000-01-03  0.149580  0.759616  0.853075  1.153849\n",
       "2000-01-04  0.212539  0.254542  0.476114 -0.344399\n",
       "2000-01-05 -1.007076  0.414017  1.336297  0.589773\n",
       "2000-01-06 -0.186111  0.623775 -1.094176 -0.365051\n",
       "2000-01-07  0.317765 -1.122836 -0.773397 -0.085617"
      ]
     },
     "execution_count": 30,
     "metadata": {},
     "output_type": "execute_result"
    }
   ],
   "source": [
    "pd.util.testing.makeTimeDataFrame().head()"
   ]
  },
  {
   "cell_type": "code",
   "execution_count": 32,
   "metadata": {},
   "outputs": [
    {
     "data": {
      "text/html": [
       "<div>\n",
       "<style scoped>\n",
       "    .dataframe tbody tr th:only-of-type {\n",
       "        vertical-align: middle;\n",
       "    }\n",
       "\n",
       "    .dataframe tbody tr th {\n",
       "        vertical-align: top;\n",
       "    }\n",
       "\n",
       "    .dataframe thead th {\n",
       "        text-align: right;\n",
       "    }\n",
       "</style>\n",
       "<table border=\"1\" class=\"dataframe\">\n",
       "  <thead>\n",
       "    <tr style=\"text-align: right;\">\n",
       "      <th></th>\n",
       "      <th>A</th>\n",
       "      <th>B</th>\n",
       "      <th>C</th>\n",
       "      <th>D</th>\n",
       "    </tr>\n",
       "  </thead>\n",
       "  <tbody>\n",
       "    <tr>\n",
       "      <th>1cKEGaUbnb</th>\n",
       "      <td>-1.426822</td>\n",
       "      <td>-1.171317</td>\n",
       "      <td>1.087030</td>\n",
       "      <td>-0.356772</td>\n",
       "    </tr>\n",
       "    <tr>\n",
       "      <th>1PsYtFxgJC</th>\n",
       "      <td>0.798611</td>\n",
       "      <td>0.607176</td>\n",
       "      <td>0.136021</td>\n",
       "      <td>-0.548551</td>\n",
       "    </tr>\n",
       "    <tr>\n",
       "      <th>xdsJdvqKD8</th>\n",
       "      <td>-0.726181</td>\n",
       "      <td>0.593418</td>\n",
       "      <td>NaN</td>\n",
       "      <td>1.948427</td>\n",
       "    </tr>\n",
       "    <tr>\n",
       "      <th>hBtI7BwE2S</th>\n",
       "      <td>-0.162326</td>\n",
       "      <td>1.140414</td>\n",
       "      <td>-0.718237</td>\n",
       "      <td>0.231725</td>\n",
       "    </tr>\n",
       "    <tr>\n",
       "      <th>a8wb1GtFaR</th>\n",
       "      <td>0.472303</td>\n",
       "      <td>0.598209</td>\n",
       "      <td>-0.931102</td>\n",
       "      <td>-0.888100</td>\n",
       "    </tr>\n",
       "  </tbody>\n",
       "</table>\n",
       "</div>"
      ],
      "text/plain": [
       "                   A         B         C         D\n",
       "1cKEGaUbnb -1.426822 -1.171317  1.087030 -0.356772\n",
       "1PsYtFxgJC  0.798611  0.607176  0.136021 -0.548551\n",
       "xdsJdvqKD8 -0.726181  0.593418       NaN  1.948427\n",
       "hBtI7BwE2S -0.162326  1.140414 -0.718237  0.231725\n",
       "a8wb1GtFaR  0.472303  0.598209 -0.931102 -0.888100"
      ]
     },
     "execution_count": 32,
     "metadata": {},
     "output_type": "execute_result"
    }
   ],
   "source": [
    "pd.util.testing.makeMissingDataframe().head()"
   ]
  },
  {
   "cell_type": "markdown",
   "metadata": {},
   "source": [
    "# Formatting tampilan Data Frame"
   ]
  },
  {
   "cell_type": "markdown",
   "metadata": {},
   "source": [
    "# _Persiapan Data Frame_\n",
    "- "
   ]
  },
  {
   "cell_type": "code",
   "execution_count": 59,
   "metadata": {},
   "outputs": [
    {
     "data": {
      "text/html": [
       "<div>\n",
       "<style scoped>\n",
       "    .dataframe tbody tr th:only-of-type {\n",
       "        vertical-align: middle;\n",
       "    }\n",
       "\n",
       "    .dataframe tbody tr th {\n",
       "        vertical-align: top;\n",
       "    }\n",
       "\n",
       "    .dataframe thead th {\n",
       "        text-align: right;\n",
       "    }\n",
       "</style>\n",
       "<table border=\"1\" class=\"dataframe\">\n",
       "  <thead>\n",
       "    <tr style=\"text-align: right;\">\n",
       "      <th></th>\n",
       "      <th>omset</th>\n",
       "      <th>operasional</th>\n",
       "    </tr>\n",
       "  </thead>\n",
       "  <tbody>\n",
       "    <tr>\n",
       "      <th>0</th>\n",
       "      <td>8</td>\n",
       "      <td>6</td>\n",
       "    </tr>\n",
       "    <tr>\n",
       "      <th>1</th>\n",
       "      <td>9</td>\n",
       "      <td>13</td>\n",
       "    </tr>\n",
       "    <tr>\n",
       "      <th>2</th>\n",
       "      <td>17</td>\n",
       "      <td>19</td>\n",
       "    </tr>\n",
       "    <tr>\n",
       "      <th>3</th>\n",
       "      <td>16</td>\n",
       "      <td>13</td>\n",
       "    </tr>\n",
       "    <tr>\n",
       "      <th>4</th>\n",
       "      <td>17</td>\n",
       "      <td>7</td>\n",
       "    </tr>\n",
       "  </tbody>\n",
       "</table>\n",
       "</div>"
      ],
      "text/plain": [
       "   omset  operasional\n",
       "0      8            6\n",
       "1      9           13\n",
       "2     17           19\n",
       "3     16           13\n",
       "4     17            7"
      ]
     },
     "execution_count": 59,
     "metadata": {},
     "output_type": "execute_result"
    }
   ],
   "source": [
    "n_rows = 5\n",
    "n_cols = 2\n",
    "cols = ['omset', 'operasional']\n",
    "\n",
    "df = pd.DataFrame(np.random.randint(1, 20, size=(n_rows, n_cols)),\n",
    "                 columns=cols)\n",
    "df"
   ]
  },
  {
   "cell_type": "markdown",
   "metadata": {},
   "source": [
    "- Mengkonversikan omset & operasional\n",
    "    - omset * 100000\n",
    "    - operasional * 10000\n",
    "- 100_000 = penggunaan underscore \"_\" dalam python di kenal sebagai ignore character \n",
    " "
   ]
  },
  {
   "cell_type": "code",
   "execution_count": 60,
   "metadata": {},
   "outputs": [
    {
     "data": {
      "text/html": [
       "<div>\n",
       "<style scoped>\n",
       "    .dataframe tbody tr th:only-of-type {\n",
       "        vertical-align: middle;\n",
       "    }\n",
       "\n",
       "    .dataframe tbody tr th {\n",
       "        vertical-align: top;\n",
       "    }\n",
       "\n",
       "    .dataframe thead th {\n",
       "        text-align: right;\n",
       "    }\n",
       "</style>\n",
       "<table border=\"1\" class=\"dataframe\">\n",
       "  <thead>\n",
       "    <tr style=\"text-align: right;\">\n",
       "      <th></th>\n",
       "      <th>omset</th>\n",
       "      <th>operasional</th>\n",
       "    </tr>\n",
       "  </thead>\n",
       "  <tbody>\n",
       "    <tr>\n",
       "      <th>0</th>\n",
       "      <td>800000</td>\n",
       "      <td>60000</td>\n",
       "    </tr>\n",
       "    <tr>\n",
       "      <th>1</th>\n",
       "      <td>900000</td>\n",
       "      <td>130000</td>\n",
       "    </tr>\n",
       "    <tr>\n",
       "      <th>2</th>\n",
       "      <td>1700000</td>\n",
       "      <td>190000</td>\n",
       "    </tr>\n",
       "    <tr>\n",
       "      <th>3</th>\n",
       "      <td>1600000</td>\n",
       "      <td>130000</td>\n",
       "    </tr>\n",
       "    <tr>\n",
       "      <th>4</th>\n",
       "      <td>1700000</td>\n",
       "      <td>70000</td>\n",
       "    </tr>\n",
       "  </tbody>\n",
       "</table>\n",
       "</div>"
      ],
      "text/plain": [
       "     omset  operasional\n",
       "0   800000        60000\n",
       "1   900000       130000\n",
       "2  1700000       190000\n",
       "3  1600000       130000\n",
       "4  1700000        70000"
      ]
     },
     "execution_count": 60,
     "metadata": {},
     "output_type": "execute_result"
    }
   ],
   "source": [
    "df['omset'] = df['omset'] * 100_000\n",
    "df['operasional'] = df['operasional'] * 10_000\n",
    "df"
   ]
  },
  {
   "cell_type": "markdown",
   "metadata": {},
   "source": [
    "- Membentuk kolom tanggal & menamai dengan 'tanggal'"
   ]
  },
  {
   "cell_type": "code",
   "execution_count": 61,
   "metadata": {},
   "outputs": [
    {
     "data": {
      "text/html": [
       "<div>\n",
       "<style scoped>\n",
       "    .dataframe tbody tr th:only-of-type {\n",
       "        vertical-align: middle;\n",
       "    }\n",
       "\n",
       "    .dataframe tbody tr th {\n",
       "        vertical-align: top;\n",
       "    }\n",
       "\n",
       "    .dataframe thead th {\n",
       "        text-align: right;\n",
       "    }\n",
       "</style>\n",
       "<table border=\"1\" class=\"dataframe\">\n",
       "  <thead>\n",
       "    <tr style=\"text-align: right;\">\n",
       "      <th></th>\n",
       "      <th>tanggal</th>\n",
       "      <th>omset</th>\n",
       "      <th>operasional</th>\n",
       "    </tr>\n",
       "  </thead>\n",
       "  <tbody>\n",
       "    <tr>\n",
       "      <th>0</th>\n",
       "      <td>2000-01-01</td>\n",
       "      <td>800000</td>\n",
       "      <td>60000</td>\n",
       "    </tr>\n",
       "    <tr>\n",
       "      <th>1</th>\n",
       "      <td>2000-01-02</td>\n",
       "      <td>900000</td>\n",
       "      <td>130000</td>\n",
       "    </tr>\n",
       "    <tr>\n",
       "      <th>2</th>\n",
       "      <td>2000-01-03</td>\n",
       "      <td>1700000</td>\n",
       "      <td>190000</td>\n",
       "    </tr>\n",
       "    <tr>\n",
       "      <th>3</th>\n",
       "      <td>2000-01-04</td>\n",
       "      <td>1600000</td>\n",
       "      <td>130000</td>\n",
       "    </tr>\n",
       "    <tr>\n",
       "      <th>4</th>\n",
       "      <td>2000-01-05</td>\n",
       "      <td>1700000</td>\n",
       "      <td>70000</td>\n",
       "    </tr>\n",
       "  </tbody>\n",
       "</table>\n",
       "</div>"
      ],
      "text/plain": [
       "     tanggal    omset  operasional\n",
       "0 2000-01-01   800000        60000\n",
       "1 2000-01-02   900000       130000\n",
       "2 2000-01-03  1700000       190000\n",
       "3 2000-01-04  1600000       130000\n",
       "4 2000-01-05  1700000        70000"
      ]
     },
     "execution_count": 61,
     "metadata": {},
     "output_type": "execute_result"
    }
   ],
   "source": [
    "df.index = pd.util.testing.makeDateIndex(n_rows, freq='D')\n",
    "df = df.reset_index()\n",
    "df = df.rename(columns={'index':'tanggal'})\n",
    "df"
   ]
  },
  {
   "cell_type": "markdown",
   "metadata": {},
   "source": [
    "# _Formating tampilan Data Frame_\n",
    "- Memformat omset & Operasional dengan penanda Rp\n",
    "- Memformat waktu dari Tahun-Bulan-Tanggal menjadi Tanggal-Bulan-Tahun\n"
   ]
  },
  {
   "cell_type": "code",
   "execution_count": 62,
   "metadata": {},
   "outputs": [
    {
     "data": {
      "text/html": [
       "<style  type=\"text/css\" >\n",
       "</style><table id=\"T_57851d14_30f3_11ec_834b_7c8ae13a9d5f\" ><thead>    <tr>        <th class=\"blank level0\" ></th>        <th class=\"col_heading level0 col0\" >tanggal</th>        <th class=\"col_heading level0 col1\" >omset</th>        <th class=\"col_heading level0 col2\" >operasional</th>    </tr></thead><tbody>\n",
       "                <tr>\n",
       "                        <th id=\"T_57851d14_30f3_11ec_834b_7c8ae13a9d5flevel0_row0\" class=\"row_heading level0 row0\" >0</th>\n",
       "                        <td id=\"T_57851d14_30f3_11ec_834b_7c8ae13a9d5frow0_col0\" class=\"data row0 col0\" >01/01/00</td>\n",
       "                        <td id=\"T_57851d14_30f3_11ec_834b_7c8ae13a9d5frow0_col1\" class=\"data row0 col1\" >Rp 800000.00</td>\n",
       "                        <td id=\"T_57851d14_30f3_11ec_834b_7c8ae13a9d5frow0_col2\" class=\"data row0 col2\" >Rp 60000.00</td>\n",
       "            </tr>\n",
       "            <tr>\n",
       "                        <th id=\"T_57851d14_30f3_11ec_834b_7c8ae13a9d5flevel0_row1\" class=\"row_heading level0 row1\" >1</th>\n",
       "                        <td id=\"T_57851d14_30f3_11ec_834b_7c8ae13a9d5frow1_col0\" class=\"data row1 col0\" >02/01/00</td>\n",
       "                        <td id=\"T_57851d14_30f3_11ec_834b_7c8ae13a9d5frow1_col1\" class=\"data row1 col1\" >Rp 900000.00</td>\n",
       "                        <td id=\"T_57851d14_30f3_11ec_834b_7c8ae13a9d5frow1_col2\" class=\"data row1 col2\" >Rp 130000.00</td>\n",
       "            </tr>\n",
       "            <tr>\n",
       "                        <th id=\"T_57851d14_30f3_11ec_834b_7c8ae13a9d5flevel0_row2\" class=\"row_heading level0 row2\" >2</th>\n",
       "                        <td id=\"T_57851d14_30f3_11ec_834b_7c8ae13a9d5frow2_col0\" class=\"data row2 col0\" >03/01/00</td>\n",
       "                        <td id=\"T_57851d14_30f3_11ec_834b_7c8ae13a9d5frow2_col1\" class=\"data row2 col1\" >Rp 1700000.00</td>\n",
       "                        <td id=\"T_57851d14_30f3_11ec_834b_7c8ae13a9d5frow2_col2\" class=\"data row2 col2\" >Rp 190000.00</td>\n",
       "            </tr>\n",
       "            <tr>\n",
       "                        <th id=\"T_57851d14_30f3_11ec_834b_7c8ae13a9d5flevel0_row3\" class=\"row_heading level0 row3\" >3</th>\n",
       "                        <td id=\"T_57851d14_30f3_11ec_834b_7c8ae13a9d5frow3_col0\" class=\"data row3 col0\" >04/01/00</td>\n",
       "                        <td id=\"T_57851d14_30f3_11ec_834b_7c8ae13a9d5frow3_col1\" class=\"data row3 col1\" >Rp 1600000.00</td>\n",
       "                        <td id=\"T_57851d14_30f3_11ec_834b_7c8ae13a9d5frow3_col2\" class=\"data row3 col2\" >Rp 130000.00</td>\n",
       "            </tr>\n",
       "            <tr>\n",
       "                        <th id=\"T_57851d14_30f3_11ec_834b_7c8ae13a9d5flevel0_row4\" class=\"row_heading level0 row4\" >4</th>\n",
       "                        <td id=\"T_57851d14_30f3_11ec_834b_7c8ae13a9d5frow4_col0\" class=\"data row4 col0\" >05/01/00</td>\n",
       "                        <td id=\"T_57851d14_30f3_11ec_834b_7c8ae13a9d5frow4_col1\" class=\"data row4 col1\" >Rp 1700000.00</td>\n",
       "                        <td id=\"T_57851d14_30f3_11ec_834b_7c8ae13a9d5frow4_col2\" class=\"data row4 col2\" >Rp 70000.00</td>\n",
       "            </tr>\n",
       "    </tbody></table>"
      ],
      "text/plain": [
       "<pandas.io.formats.style.Styler at 0x108ee9716a0>"
      ]
     },
     "execution_count": 62,
     "metadata": {},
     "output_type": "execute_result"
    }
   ],
   "source": [
    "formatku = {'tanggal':'{:%d/%m/%y}',\n",
    "            'operasional':'Rp {:.2f}',\n",
    "            'omset':'Rp {:.2f}'}\n",
    "\n",
    "laporan = df.style.format(formatku)\n",
    "laporan"
   ]
  },
  {
   "cell_type": "markdown",
   "metadata": {},
   "source": [
    "- Object yang di simpan di variable laporan bukan bertipe data Data Frame lagi tapi menjadi object styler \n",
    "- object yang ada di laporan adalah styler"
   ]
  },
  {
   "cell_type": "code",
   "execution_count": 54,
   "metadata": {},
   "outputs": [
    {
     "data": {
      "text/plain": [
       "pandas.io.formats.style.Styler"
      ]
     },
     "execution_count": 54,
     "metadata": {},
     "output_type": "execute_result"
    }
   ],
   "source": [
    "type(laporan)"
   ]
  },
  {
   "cell_type": "markdown",
   "metadata": {},
   "source": [
    "- Data Frame berbeda dengan styler oleh karena itu error"
   ]
  },
  {
   "cell_type": "code",
   "execution_count": 55,
   "metadata": {},
   "outputs": [
    {
     "ename": "AttributeError",
     "evalue": "'Styler' object has no attribute 'head'",
     "output_type": "error",
     "traceback": [
      "\u001b[1;31m---------------------------------------------------------------------------\u001b[0m",
      "\u001b[1;31mAttributeError\u001b[0m                            Traceback (most recent call last)",
      "\u001b[1;32m<ipython-input-55-d70027199a56>\u001b[0m in \u001b[0;36m<module>\u001b[1;34m\u001b[0m\n\u001b[1;32m----> 1\u001b[1;33m \u001b[0mlaporan\u001b[0m\u001b[1;33m.\u001b[0m\u001b[0mhead\u001b[0m\u001b[1;33m(\u001b[0m\u001b[1;33m)\u001b[0m\u001b[1;33m\u001b[0m\u001b[1;33m\u001b[0m\u001b[0m\n\u001b[0m",
      "\u001b[1;31mAttributeError\u001b[0m: 'Styler' object has no attribute 'head'"
     ]
    }
   ],
   "source": [
    "laporan.head()"
   ]
  },
  {
   "cell_type": "markdown",
   "metadata": {},
   "source": [
    "- Data Frame ada di df."
   ]
  },
  {
   "cell_type": "code",
   "execution_count": 63,
   "metadata": {},
   "outputs": [
    {
     "data": {
      "text/html": [
       "<div>\n",
       "<style scoped>\n",
       "    .dataframe tbody tr th:only-of-type {\n",
       "        vertical-align: middle;\n",
       "    }\n",
       "\n",
       "    .dataframe tbody tr th {\n",
       "        vertical-align: top;\n",
       "    }\n",
       "\n",
       "    .dataframe thead th {\n",
       "        text-align: right;\n",
       "    }\n",
       "</style>\n",
       "<table border=\"1\" class=\"dataframe\">\n",
       "  <thead>\n",
       "    <tr style=\"text-align: right;\">\n",
       "      <th></th>\n",
       "      <th>tanggal</th>\n",
       "      <th>omset</th>\n",
       "      <th>operasional</th>\n",
       "    </tr>\n",
       "  </thead>\n",
       "  <tbody>\n",
       "    <tr>\n",
       "      <th>0</th>\n",
       "      <td>2000-01-01</td>\n",
       "      <td>800000</td>\n",
       "      <td>60000</td>\n",
       "    </tr>\n",
       "    <tr>\n",
       "      <th>1</th>\n",
       "      <td>2000-01-02</td>\n",
       "      <td>900000</td>\n",
       "      <td>130000</td>\n",
       "    </tr>\n",
       "    <tr>\n",
       "      <th>2</th>\n",
       "      <td>2000-01-03</td>\n",
       "      <td>1700000</td>\n",
       "      <td>190000</td>\n",
       "    </tr>\n",
       "    <tr>\n",
       "      <th>3</th>\n",
       "      <td>2000-01-04</td>\n",
       "      <td>1600000</td>\n",
       "      <td>130000</td>\n",
       "    </tr>\n",
       "    <tr>\n",
       "      <th>4</th>\n",
       "      <td>2000-01-05</td>\n",
       "      <td>1700000</td>\n",
       "      <td>70000</td>\n",
       "    </tr>\n",
       "  </tbody>\n",
       "</table>\n",
       "</div>"
      ],
      "text/plain": [
       "     tanggal    omset  operasional\n",
       "0 2000-01-01   800000        60000\n",
       "1 2000-01-02   900000       130000\n",
       "2 2000-01-03  1700000       190000\n",
       "3 2000-01-04  1600000       130000\n",
       "4 2000-01-05  1700000        70000"
      ]
     },
     "execution_count": 63,
     "metadata": {},
     "output_type": "execute_result"
    }
   ],
   "source": [
    "df.head()"
   ]
  },
  {
   "cell_type": "markdown",
   "metadata": {},
   "source": [
    "- Menyembunyikan index"
   ]
  },
  {
   "cell_type": "code",
   "execution_count": 64,
   "metadata": {},
   "outputs": [
    {
     "data": {
      "text/html": [
       "<style  type=\"text/css\" >\n",
       "</style><table id=\"T_86b7758f_30f3_11ec_9d18_7c8ae13a9d5f\" ><thead>    <tr>        <th class=\"col_heading level0 col0\" >tanggal</th>        <th class=\"col_heading level0 col1\" >omset</th>        <th class=\"col_heading level0 col2\" >operasional</th>    </tr></thead><tbody>\n",
       "                <tr>\n",
       "                                <td id=\"T_86b7758f_30f3_11ec_9d18_7c8ae13a9d5frow0_col0\" class=\"data row0 col0\" >01/01/00</td>\n",
       "                        <td id=\"T_86b7758f_30f3_11ec_9d18_7c8ae13a9d5frow0_col1\" class=\"data row0 col1\" >Rp 800000.00</td>\n",
       "                        <td id=\"T_86b7758f_30f3_11ec_9d18_7c8ae13a9d5frow0_col2\" class=\"data row0 col2\" >Rp 60000.00</td>\n",
       "            </tr>\n",
       "            <tr>\n",
       "                                <td id=\"T_86b7758f_30f3_11ec_9d18_7c8ae13a9d5frow1_col0\" class=\"data row1 col0\" >02/01/00</td>\n",
       "                        <td id=\"T_86b7758f_30f3_11ec_9d18_7c8ae13a9d5frow1_col1\" class=\"data row1 col1\" >Rp 900000.00</td>\n",
       "                        <td id=\"T_86b7758f_30f3_11ec_9d18_7c8ae13a9d5frow1_col2\" class=\"data row1 col2\" >Rp 130000.00</td>\n",
       "            </tr>\n",
       "            <tr>\n",
       "                                <td id=\"T_86b7758f_30f3_11ec_9d18_7c8ae13a9d5frow2_col0\" class=\"data row2 col0\" >03/01/00</td>\n",
       "                        <td id=\"T_86b7758f_30f3_11ec_9d18_7c8ae13a9d5frow2_col1\" class=\"data row2 col1\" >Rp 1700000.00</td>\n",
       "                        <td id=\"T_86b7758f_30f3_11ec_9d18_7c8ae13a9d5frow2_col2\" class=\"data row2 col2\" >Rp 190000.00</td>\n",
       "            </tr>\n",
       "            <tr>\n",
       "                                <td id=\"T_86b7758f_30f3_11ec_9d18_7c8ae13a9d5frow3_col0\" class=\"data row3 col0\" >04/01/00</td>\n",
       "                        <td id=\"T_86b7758f_30f3_11ec_9d18_7c8ae13a9d5frow3_col1\" class=\"data row3 col1\" >Rp 1600000.00</td>\n",
       "                        <td id=\"T_86b7758f_30f3_11ec_9d18_7c8ae13a9d5frow3_col2\" class=\"data row3 col2\" >Rp 130000.00</td>\n",
       "            </tr>\n",
       "            <tr>\n",
       "                                <td id=\"T_86b7758f_30f3_11ec_9d18_7c8ae13a9d5frow4_col0\" class=\"data row4 col0\" >05/01/00</td>\n",
       "                        <td id=\"T_86b7758f_30f3_11ec_9d18_7c8ae13a9d5frow4_col1\" class=\"data row4 col1\" >Rp 1700000.00</td>\n",
       "                        <td id=\"T_86b7758f_30f3_11ec_9d18_7c8ae13a9d5frow4_col2\" class=\"data row4 col2\" >Rp 70000.00</td>\n",
       "            </tr>\n",
       "    </tbody></table>"
      ],
      "text/plain": [
       "<pandas.io.formats.style.Styler at 0x108ee9716a0>"
      ]
     },
     "execution_count": 64,
     "metadata": {},
     "output_type": "execute_result"
    }
   ],
   "source": [
    "laporan.hide_index()"
   ]
  },
  {
   "cell_type": "markdown",
   "metadata": {},
   "source": [
    "- Menambahkan judul "
   ]
  },
  {
   "cell_type": "code",
   "execution_count": 65,
   "metadata": {},
   "outputs": [
    {
     "data": {
      "text/html": [
       "<style  type=\"text/css\" >\n",
       "</style><table id=\"T_b2da555e_30f3_11ec_bd74_7c8ae13a9d5f\" ><caption>Data Omset dan Operasional</caption><thead>    <tr>        <th class=\"col_heading level0 col0\" >tanggal</th>        <th class=\"col_heading level0 col1\" >omset</th>        <th class=\"col_heading level0 col2\" >operasional</th>    </tr></thead><tbody>\n",
       "                <tr>\n",
       "                                <td id=\"T_b2da555e_30f3_11ec_bd74_7c8ae13a9d5frow0_col0\" class=\"data row0 col0\" >01/01/00</td>\n",
       "                        <td id=\"T_b2da555e_30f3_11ec_bd74_7c8ae13a9d5frow0_col1\" class=\"data row0 col1\" >Rp 800000.00</td>\n",
       "                        <td id=\"T_b2da555e_30f3_11ec_bd74_7c8ae13a9d5frow0_col2\" class=\"data row0 col2\" >Rp 60000.00</td>\n",
       "            </tr>\n",
       "            <tr>\n",
       "                                <td id=\"T_b2da555e_30f3_11ec_bd74_7c8ae13a9d5frow1_col0\" class=\"data row1 col0\" >02/01/00</td>\n",
       "                        <td id=\"T_b2da555e_30f3_11ec_bd74_7c8ae13a9d5frow1_col1\" class=\"data row1 col1\" >Rp 900000.00</td>\n",
       "                        <td id=\"T_b2da555e_30f3_11ec_bd74_7c8ae13a9d5frow1_col2\" class=\"data row1 col2\" >Rp 130000.00</td>\n",
       "            </tr>\n",
       "            <tr>\n",
       "                                <td id=\"T_b2da555e_30f3_11ec_bd74_7c8ae13a9d5frow2_col0\" class=\"data row2 col0\" >03/01/00</td>\n",
       "                        <td id=\"T_b2da555e_30f3_11ec_bd74_7c8ae13a9d5frow2_col1\" class=\"data row2 col1\" >Rp 1700000.00</td>\n",
       "                        <td id=\"T_b2da555e_30f3_11ec_bd74_7c8ae13a9d5frow2_col2\" class=\"data row2 col2\" >Rp 190000.00</td>\n",
       "            </tr>\n",
       "            <tr>\n",
       "                                <td id=\"T_b2da555e_30f3_11ec_bd74_7c8ae13a9d5frow3_col0\" class=\"data row3 col0\" >04/01/00</td>\n",
       "                        <td id=\"T_b2da555e_30f3_11ec_bd74_7c8ae13a9d5frow3_col1\" class=\"data row3 col1\" >Rp 1600000.00</td>\n",
       "                        <td id=\"T_b2da555e_30f3_11ec_bd74_7c8ae13a9d5frow3_col2\" class=\"data row3 col2\" >Rp 130000.00</td>\n",
       "            </tr>\n",
       "            <tr>\n",
       "                                <td id=\"T_b2da555e_30f3_11ec_bd74_7c8ae13a9d5frow4_col0\" class=\"data row4 col0\" >05/01/00</td>\n",
       "                        <td id=\"T_b2da555e_30f3_11ec_bd74_7c8ae13a9d5frow4_col1\" class=\"data row4 col1\" >Rp 1700000.00</td>\n",
       "                        <td id=\"T_b2da555e_30f3_11ec_bd74_7c8ae13a9d5frow4_col2\" class=\"data row4 col2\" >Rp 70000.00</td>\n",
       "            </tr>\n",
       "    </tbody></table>"
      ],
      "text/plain": [
       "<pandas.io.formats.style.Styler at 0x108ee9716a0>"
      ]
     },
     "execution_count": 65,
     "metadata": {},
     "output_type": "execute_result"
    }
   ],
   "source": [
    "laporan.set_caption('Data Omset dan Operasional')"
   ]
  },
  {
   "cell_type": "markdown",
   "metadata": {},
   "source": [
    "- Memberikan highlight Max dan Min"
   ]
  },
  {
   "cell_type": "code",
   "execution_count": 71,
   "metadata": {},
   "outputs": [
    {
     "data": {
      "text/html": [
       "<style  type=\"text/css\" >\n",
       "#T_61d15bd0_30f4_11ec_ad40_7c8ae13a9d5frow0_col1{\n",
       "            background-color:  red;\n",
       "            background-color:  red;\n",
       "            background-color:  red;\n",
       "            background-color:  red;\n",
       "            background-color:  red;\n",
       "            background-color:  red;\n",
       "            background-color:  red;\n",
       "            background-color:  red;\n",
       "            background-color:  red;\n",
       "            background-color:  red;\n",
       "            background-color:  red;\n",
       "            background-color:  red;\n",
       "            background-color:  red;\n",
       "            background-color:  red;\n",
       "            background-color:  red;\n",
       "            background-color:  red;\n",
       "            background-color:  red;\n",
       "            background-color:  red;\n",
       "            background-color:  red;\n",
       "            background-color:  red;\n",
       "            background-color:  red;\n",
       "        }#T_61d15bd0_30f4_11ec_ad40_7c8ae13a9d5frow0_col2{\n",
       "            background-color:  blue;\n",
       "            background-color:  blue;\n",
       "            background-color:  blue;\n",
       "            background-color:  blue;\n",
       "            background-color:  blue;\n",
       "            background-color:  blue;\n",
       "            background-color:  blue;\n",
       "            background-color:  blue;\n",
       "            background-color:  blue;\n",
       "            background-color:  lightblue;\n",
       "            background-color:  blue;\n",
       "            background-color:  blue;\n",
       "            background-color:  blue;\n",
       "            background-color:  lightblue;\n",
       "            background-color:  bluesky;\n",
       "            background-color:  blue;\n",
       "            background-color:  blue;\n",
       "            background-color:  blue;\n",
       "            background-color:  lightblue;\n",
       "            background-color:  bluesky;\n",
       "            background-color:  purple;\n",
       "        }#T_61d15bd0_30f4_11ec_ad40_7c8ae13a9d5frow2_col1,#T_61d15bd0_30f4_11ec_ad40_7c8ae13a9d5frow4_col1{\n",
       "            background-color:  lightyellow;\n",
       "            background-color:  lightyellow;\n",
       "            background-color:  darkyellow;\n",
       "            background-color:  lightyellow;\n",
       "            background-color:  darkyellow;\n",
       "            background-color:  yellow;\n",
       "            background-color:  lightyellow;\n",
       "            background-color:  darkyellow;\n",
       "            background-color:  yellow;\n",
       "            background-color:  yellow;\n",
       "            background-color:  lightyellow;\n",
       "            background-color:  darkyellow;\n",
       "            background-color:  yellow;\n",
       "            background-color:  yellow;\n",
       "            background-color:  yellow;\n",
       "            background-color:  lightyellow;\n",
       "            background-color:  darkyellow;\n",
       "            background-color:  yellow;\n",
       "            background-color:  yellow;\n",
       "            background-color:  yellow;\n",
       "            background-color:  yellow;\n",
       "        }#T_61d15bd0_30f4_11ec_ad40_7c8ae13a9d5frow2_col2{\n",
       "            background-color:  lightgreen;\n",
       "            background-color:  lightgreen;\n",
       "            background-color:  lightgreen;\n",
       "            background-color:  lightgreen;\n",
       "            background-color:  lightgreen;\n",
       "            background-color:  lightgreen;\n",
       "            background-color:  lightgreen;\n",
       "            background-color:  lightgreen;\n",
       "            background-color:  lightgreen;\n",
       "            background-color:  lightgreen;\n",
       "            background-color:  lightgreen;\n",
       "            background-color:  lightgreen;\n",
       "            background-color:  lightgreen;\n",
       "            background-color:  lightgreen;\n",
       "            background-color:  lightgreen;\n",
       "            background-color:  lightgreen;\n",
       "            background-color:  lightgreen;\n",
       "            background-color:  lightgreen;\n",
       "            background-color:  lightgreen;\n",
       "            background-color:  lightgreen;\n",
       "            background-color:  lightgreen;\n",
       "        }</style><table id=\"T_61d15bd0_30f4_11ec_ad40_7c8ae13a9d5f\" ><caption>Data Omset dan Operasional</caption><thead>    <tr>        <th class=\"col_heading level0 col0\" >tanggal</th>        <th class=\"col_heading level0 col1\" >omset</th>        <th class=\"col_heading level0 col2\" >operasional</th>    </tr></thead><tbody>\n",
       "                <tr>\n",
       "                                <td id=\"T_61d15bd0_30f4_11ec_ad40_7c8ae13a9d5frow0_col0\" class=\"data row0 col0\" >01/01/00</td>\n",
       "                        <td id=\"T_61d15bd0_30f4_11ec_ad40_7c8ae13a9d5frow0_col1\" class=\"data row0 col1\" >Rp 800000.00</td>\n",
       "                        <td id=\"T_61d15bd0_30f4_11ec_ad40_7c8ae13a9d5frow0_col2\" class=\"data row0 col2\" >Rp 60000.00</td>\n",
       "            </tr>\n",
       "            <tr>\n",
       "                                <td id=\"T_61d15bd0_30f4_11ec_ad40_7c8ae13a9d5frow1_col0\" class=\"data row1 col0\" >02/01/00</td>\n",
       "                        <td id=\"T_61d15bd0_30f4_11ec_ad40_7c8ae13a9d5frow1_col1\" class=\"data row1 col1\" >Rp 900000.00</td>\n",
       "                        <td id=\"T_61d15bd0_30f4_11ec_ad40_7c8ae13a9d5frow1_col2\" class=\"data row1 col2\" >Rp 130000.00</td>\n",
       "            </tr>\n",
       "            <tr>\n",
       "                                <td id=\"T_61d15bd0_30f4_11ec_ad40_7c8ae13a9d5frow2_col0\" class=\"data row2 col0\" >03/01/00</td>\n",
       "                        <td id=\"T_61d15bd0_30f4_11ec_ad40_7c8ae13a9d5frow2_col1\" class=\"data row2 col1\" >Rp 1700000.00</td>\n",
       "                        <td id=\"T_61d15bd0_30f4_11ec_ad40_7c8ae13a9d5frow2_col2\" class=\"data row2 col2\" >Rp 190000.00</td>\n",
       "            </tr>\n",
       "            <tr>\n",
       "                                <td id=\"T_61d15bd0_30f4_11ec_ad40_7c8ae13a9d5frow3_col0\" class=\"data row3 col0\" >04/01/00</td>\n",
       "                        <td id=\"T_61d15bd0_30f4_11ec_ad40_7c8ae13a9d5frow3_col1\" class=\"data row3 col1\" >Rp 1600000.00</td>\n",
       "                        <td id=\"T_61d15bd0_30f4_11ec_ad40_7c8ae13a9d5frow3_col2\" class=\"data row3 col2\" >Rp 130000.00</td>\n",
       "            </tr>\n",
       "            <tr>\n",
       "                                <td id=\"T_61d15bd0_30f4_11ec_ad40_7c8ae13a9d5frow4_col0\" class=\"data row4 col0\" >05/01/00</td>\n",
       "                        <td id=\"T_61d15bd0_30f4_11ec_ad40_7c8ae13a9d5frow4_col1\" class=\"data row4 col1\" >Rp 1700000.00</td>\n",
       "                        <td id=\"T_61d15bd0_30f4_11ec_ad40_7c8ae13a9d5frow4_col2\" class=\"data row4 col2\" >Rp 70000.00</td>\n",
       "            </tr>\n",
       "    </tbody></table>"
      ],
      "text/plain": [
       "<pandas.io.formats.style.Styler at 0x108ee9716a0>"
      ]
     },
     "execution_count": 71,
     "metadata": {},
     "output_type": "execute_result"
    }
   ],
   "source": [
    "laporan.highlight_min('omset', color='red')\n",
    "laporan.highlight_max('omset', color='yellow')\n",
    "\n",
    "laporan.highlight_min('operasional', color='purple')\n",
    "laporan.highlight_max('operasional', color='lightgreen')"
   ]
  },
  {
   "cell_type": "code",
   "execution_count": null,
   "metadata": {},
   "outputs": [],
   "source": []
  }
 ],
 "metadata": {
  "kernelspec": {
   "display_name": "Python 3",
   "language": "python",
   "name": "python3"
  },
  "language_info": {
   "codemirror_mode": {
    "name": "ipython",
    "version": 3
   },
   "file_extension": ".py",
   "mimetype": "text/x-python",
   "name": "python",
   "nbconvert_exporter": "python",
   "pygments_lexer": "ipython3",
   "version": "3.8.5"
  }
 },
 "nbformat": 4,
 "nbformat_minor": 4
}
